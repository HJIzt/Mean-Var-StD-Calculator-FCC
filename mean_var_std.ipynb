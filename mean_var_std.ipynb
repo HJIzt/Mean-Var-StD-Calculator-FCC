{
 "cells": [
  {
   "cell_type": "markdown",
   "metadata": {},
   "source": [
    "### Assignment\n",
    "\n",
    "Create a function named `calculate()` in `mean_var_std.py` that uses Numpy to output the mean, variance, standard deviation, max, min, and sum of the rows, columns, and elements in a 3 x 3 matrix. \n",
    "\n",
    "The input of the function should be a list containing 9 digits. The function should convert the list into a 3 x 3 Numpy array, and then return a dictionary containing the mean, variance, standard deviation, max, min, and sum along both axes and for the flattened matrix. \n",
    "\n",
    "The returned dictionary should follow this format:\n",
    "```py\n",
    "{\n",
    "  'mean': [axis1, axis2, flattened],\n",
    "  'variance': [axis1, axis2, flattened],\n",
    "  'standard deviation': [axis1, axis2, flattened],\n",
    "  'max': [axis1, axis2, flattened],\n",
    "  'min': [axis1, axis2, flattened],\n",
    "  'sum': [axis1, axis2, flattened]\n",
    "}\n",
    "```\n",
    "\n",
    "If a list containing less than 9 elements is passed into the function, it should raise a `ValueError` exception with the message: \"List must contain nine numbers.\" The values in the returned dictionary should be lists and not Numpy arrays.\n",
    "\n",
    "For example, `calculate([0,1,2,3,4,5,6,7,8])` should return:\n",
    "```py\n",
    "{\n",
    "  'mean': [[3.0, 4.0, 5.0], [1.0, 4.0, 7.0], 4.0], \n",
    "  'variance': [[6.0, 6.0, 6.0], [0.6666666666666666, 0.6666666666666666, 0.6666666666666666], 6.666666666666667], \n",
    "  'standard deviation': [[2.449489742783178, 2.449489742783178, 2.449489742783178], [0.816496580927726, 0.816496580927726, 0.816496580927726], 2.581988897471611],\n",
    "  'max': [[6, 7, 8], [2, 5, 8], 8],\n",
    "  'min': [[0, 1, 2], [0, 3, 6], 0],\n",
    "  'sum': [[9, 12, 15], [3, 12, 21], 36]\n",
    "}\n",
    "```\n",
    "\n",
    "The unit tests for this project are in `test_module.py`.\n",
    "\n",
    "### Development\n",
    "\n",
    "For development, you can use `main.py` to test your `calculate()` function. Click the \"run\" button and `main.py` will run.\n",
    "\n",
    "### Testing \n",
    "\n",
    "We imported the tests from `test_module.py` to `main.py` for your convenience. The tests will run automatically whenever you hit the \"run\" button.\n",
    "\n",
    "### Submitting\n",
    "\n",
    "Copy your project's URL and submit it to freeCodeCamp."
   ]
  },
  {
   "cell_type": "code",
   "execution_count": 39,
   "metadata": {},
   "outputs": [],
   "source": [
    "import numpy as np\n",
    "\n",
    "def calculate(list):\n",
    "    \n",
    "    if len(list) != 9:\n",
    "        raise ValueError(\"List must contain nine numbers.\")\n",
    "    \n",
    "    list = np.array(list)\n",
    "    \n",
    "    list = list.reshape((3, 3))\n",
    "    \n",
    "    col_1 = list[:, 0]\n",
    "    col_2 = list[:, 1]\n",
    "    col_3 = list[:, 2]\n",
    "        \n",
    "    row_1 = list[0]\n",
    "    row_2 = list[1]\n",
    "    row_3 = list[2]\n",
    "        \n",
    "    calculations = {\"mean\": [[col_1.mean(), col_2.mean(), col_3.mean()], \n",
    "                                        [row_1.mean(), row_2.mean(), row_3.mean()], \n",
    "                                        list.mean()],\n",
    "                               \"variance\": [[col_1.var(), col_2.var(), col_3.var()],\n",
    "                                            [row_1.var(), row_2.var(), row_3.var()],\n",
    "                                            list.var()],\n",
    "                               \"standard deviation\": [[col_1.std(), col_2.std(), col_3.std()],\n",
    "                                                      [row_1.std(), row_2.std(), row_3.std()],\n",
    "                                                      list.std()],\n",
    "                               \"max\": [[col_1.max(), col_2.max(), col_3.max()],\n",
    "                                       [row_1.max(), row_2.max(), row_3.max()],\n",
    "                                       list.max()],\n",
    "                               \"min\": [[col_1.min(), col_2.min(), col_3.min()],\n",
    "                                       [row_1.min(), row_2.min(), row_3.min()],\n",
    "                                       list.min()],\n",
    "                               \"sum\": [[col_1.sum(), col_2.sum(), col_3.sum()],\n",
    "                                       [row_1.sum(), row_2.sum(), row_3.sum()],\n",
    "                                       list.sum()]                             \n",
    "                              }\n",
    "\n",
    "\n",
    "\n",
    "    return calculations"
   ]
  },
  {
   "cell_type": "code",
   "execution_count": 45,
   "metadata": {},
   "outputs": [
    {
     "data": {
      "text/plain": [
       "{'mean': [[4.0, 5.0, 6.0], [2.0, 5.0, 8.0], 5.0],\n",
       " 'variance': [[6.0, 6.0, 6.0],\n",
       "  [0.6666666666666666, 0.6666666666666666, 0.6666666666666666],\n",
       "  6.666666666666667],\n",
       " 'standard deviation': [[2.449489742783178,\n",
       "   2.449489742783178,\n",
       "   2.449489742783178],\n",
       "  [0.816496580927726, 0.816496580927726, 0.816496580927726],\n",
       "  2.581988897471611],\n",
       " 'max': [[7, 8, 9], [3, 6, 9], 9],\n",
       " 'min': [[1, 2, 3], [1, 4, 7], 1],\n",
       " 'sum': [[12, 15, 18], [6, 15, 24], 45]}"
      ]
     },
     "execution_count": 45,
     "metadata": {},
     "output_type": "execute_result"
    }
   ],
   "source": [
    "#test 1\n",
    "\n",
    "calculate([1, 2, 3, 4, 5, 6, 7, 8, 9])"
   ]
  },
  {
   "cell_type": "code",
   "execution_count": 46,
   "metadata": {},
   "outputs": [
    {
     "data": {
      "text/plain": [
       "{'mean': [[3.0, 4.0, 5.0], [1.0, 4.0, 7.0], 4.0],\n",
       " 'variance': [[6.0, 6.0, 6.0],\n",
       "  [0.6666666666666666, 0.6666666666666666, 0.6666666666666666],\n",
       "  6.666666666666667],\n",
       " 'standard deviation': [[2.449489742783178,\n",
       "   2.449489742783178,\n",
       "   2.449489742783178],\n",
       "  [0.816496580927726, 0.816496580927726, 0.816496580927726],\n",
       "  2.581988897471611],\n",
       " 'max': [[6, 7, 8], [2, 5, 8], 8],\n",
       " 'min': [[0, 1, 2], [0, 3, 6], 0],\n",
       " 'sum': [[9, 12, 15], [3, 12, 21], 36]}"
      ]
     },
     "execution_count": 46,
     "metadata": {},
     "output_type": "execute_result"
    }
   ],
   "source": [
    "#test 2\n",
    "\n",
    "calculate([0, 1, 2, 3, 4, 5, 6, 7, 8])"
   ]
  },
  {
   "cell_type": "code",
   "execution_count": null,
   "metadata": {},
   "outputs": [],
   "source": []
  }
 ],
 "metadata": {
  "kernelspec": {
   "display_name": "Python 3",
   "language": "python",
   "name": "python3"
  },
  "language_info": {
   "codemirror_mode": {
    "name": "ipython",
    "version": 3
   },
   "file_extension": ".py",
   "mimetype": "text/x-python",
   "name": "python",
   "nbconvert_exporter": "python",
   "pygments_lexer": "ipython3",
   "version": "3.8.5"
  }
 },
 "nbformat": 4,
 "nbformat_minor": 4
}
